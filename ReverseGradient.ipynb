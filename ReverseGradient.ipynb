{
 "cells": [
  {
   "cell_type": "code",
   "execution_count": 1,
   "id": "ab712c09",
   "metadata": {},
   "outputs": [
    {
     "ename": "SyntaxError",
     "evalue": "unexpected EOF while parsing (<ipython-input-1-7abc45470d9b>, line 1)",
     "output_type": "error",
     "traceback": [
      "\u001b[1;36m  File \u001b[1;32m\"<ipython-input-1-7abc45470d9b>\"\u001b[1;36m, line \u001b[1;32m1\u001b[0m\n\u001b[1;33m    while True:\u001b[0m\n\u001b[1;37m               ^\u001b[0m\n\u001b[1;31mSyntaxError\u001b[0m\u001b[1;31m:\u001b[0m unexpected EOF while parsing\n"
     ]
    }
   ],
   "source": [
    "import random\n",
    "from batchloss import nearest_position, nearest_position_state\n",
    "import torch\n",
    "\n",
    "i = 0\n",
    "while True:\n",
    "    with open(\"ReverseGradientPoints.txt\") as file:\n",
    "        lines = file.readlines()\n",
    "    \n",
    "    random.shuffle(lines)\n",
    "    v_1 = torch.tensor([float(lines[0].split(\",\")[0])], requires_grad = True)\n",
    "    v_2 = torch.tensor([float(lines[0].split(\",\")[1])], requires_grad = True)\n",
    "    input_vec = torch.stack((\n",
    "            torch.tensor([-1]),\n",
    "            torch.tensor([0]),\n",
    "            torch.tensor([0]),\n",
    "            torch.tensor([1]),\n",
    "            torch.tensor([0]),\n",
    "            torch.tensor([0]),\n",
    "            torch.tensor([0]),\n",
    "            torch.tensor([0]),\n",
    "            torch.tensor([0]),\n",
    "            v_1,\n",
    "            v_2,\n",
    "            torch.tensor([0]),\n",
    "            v_1,\n",
    "            v_2,\n",
    "            torch.tensor([0]),\n",
    "            -2*v_1,\n",
    "            -2*v_2,\n",
    "            torch.tensor([0]),\n",
    "            torch.tensor([1]),\n",
    "            torch.tensor([1]),\n",
    "            torch.tensor([1]),\n",
    "\n",
    "        )).flatten()\n",
    "    data_set = torchstate(input_vec, time_step, max_period, \"rk4\")\n",
    "    first_index = nearest_position_state(1, data_set[0], data_set, 300, len(data_set), time_step)\n",
    "    first_particle_state = data_set[first_index]\n",
    "    second_index = nearest_position_state(2, data_set[0], data_set, 300, len(data_set), time_step)\n",
    "    second_particle_state = data_set[second_index]\n",
    "    third_index = nearest_position_state(3, data_set[0], data_set, 300, len(data_set), time_step)\n",
    "    third_particle_state = data_set[third_index]\n",
    "    loss = nearest_position(1, data_set[0], first_particle_state) + nearest_position(2, data_set[0], second_particle_state) + nearest_position(3, data_set[0], third_particle_state)\n",
    "    loss.backward()\n",
    "    print(v_1.grad, v_2.grad)\n",
    "    with torch.no_grad():\n",
    "\n",
    "        v_1 += v_1.grad * .01\n",
    "        v_2 += v_2.grad * .01\n",
    "\n",
    "    v_1.grad.zero_()\n",
    "    v_2.grad.zero_()\n",
    "    if str(v_1) or str(v_2) == \"nan\":\n",
    "        pass\n",
    "    else:\n",
    "        with open(\"ReverseGradientPoints.txt\", \"a\") as file:\n",
    "        file.write(f\"{v_1.item()},{v_2.item()}\\n\")\n",
    "    \n",
    "    print(f\"Epoch: {i}\")\n",
    "    i += 1\n"
   ]
  },
  {
   "cell_type": "code",
   "execution_count": null,
   "id": "251aad74",
   "metadata": {},
   "outputs": [],
   "source": []
  }
 ],
 "metadata": {
  "kernelspec": {
   "display_name": "Python 3",
   "language": "python",
   "name": "python3"
  },
  "language_info": {
   "codemirror_mode": {
    "name": "ipython",
    "version": 3
   },
   "file_extension": ".py",
   "mimetype": "text/x-python",
   "name": "python",
   "nbconvert_exporter": "python",
   "pygments_lexer": "ipython3",
   "version": "3.8.8"
  }
 },
 "nbformat": 4,
 "nbformat_minor": 5
}
