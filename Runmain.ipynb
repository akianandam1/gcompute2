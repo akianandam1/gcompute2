{
 "cells": [
  {
   "cell_type": "code",
   "execution_count": null,
   "metadata": {},
   "outputs": [],
   "source": [
    "from ReverseGradient import reverse_grad2\n",
    "from equalmass import values\n",
    "\n",
    "start = 0 * 6\n",
    "i=start\n",
    "while i < start+6:\n",
    "     reverse_grad2(values[start][0], values[start][1], .005, .01, 500, int(values[start][2])+2)\n",
    "     i+=1"
   ]
  }
 ],
 "metadata": {
  "kernelspec": {
   "display_name": "Python 3",
   "language": "python",
   "name": "python3"
  },
  "language_info": {
   "codemirror_mode": {
    "name": "ipython",
    "version": 3
   },
   "file_extension": ".py",
   "mimetype": "text/x-python",
   "name": "python",
   "nbconvert_exporter": "python",
   "pygments_lexer": "ipython3",
   "version": "3.6.3"
  }
 },
 "nbformat": 4,
 "nbformat_minor": 2
}
